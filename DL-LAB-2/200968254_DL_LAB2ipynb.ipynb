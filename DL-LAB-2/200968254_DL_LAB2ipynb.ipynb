{
  "nbformat": 4,
  "nbformat_minor": 0,
  "metadata": {
    "colab": {
      "name": "200968254-DL-LAB2ipynb",
      "provenance": [],
      "collapsed_sections": []
    },
    "kernelspec": {
      "name": "python3",
      "display_name": "Python 3"
    },
    "language_info": {
      "name": "python"
    },
    "accelerator": "GPU",
    "gpuClass": "standard"
  },
  "cells": [
    {
      "cell_type": "code",
      "execution_count": null,
      "metadata": {
        "colab": {
          "base_uri": "https://localhost:8080/"
        },
        "id": "I8-43ecqjZO0",
        "outputId": "d19a833c-4e01-466c-ebea-1ca85aea7d5c"
      },
      "outputs": [
        {
          "output_type": "stream",
          "name": "stdout",
          "text": [
            "Tensorflow version: 2.8.2\n",
            "Keras version: 2.8.0\n"
          ]
        }
      ],
      "source": [
        "import tensorflow as tf\n",
        "print(f\"Tensorflow version: {tf.__version__}\")\n",
        "print(f\"Keras version: {tf.keras.__version__}\")"
      ]
    },
    {
      "cell_type": "code",
      "source": [
        "import numpy as np\n",
        "import matplotlib.pyplot as plt\n",
        "import pandas as pd\n",
        "import seaborn as sns"
      ],
      "metadata": {
        "id": "YdEkqfZBkVzn"
      },
      "execution_count": null,
      "outputs": []
    },
    {
      "cell_type": "code",
      "source": [
        "from google.colab import files\n",
        "uploaded = files.upload()"
      ],
      "metadata": {
        "colab": {
          "resources": {
            "http://localhost:8080/nbextensions/google.colab/files.js": {
              "data": "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",
              "ok": true,
              "headers": [
                [
                  "content-type",
                  "application/javascript"
                ]
              ],
              "status": 200,
              "status_text": ""
            }
          },
          "base_uri": "https://localhost:8080/",
          "height": 73
        },
        "id": "-UAOkCWTl5yN",
        "outputId": "970aadd1-020d-4cb5-ac1c-b8c6f45b94e8"
      },
      "execution_count": null,
      "outputs": [
        {
          "output_type": "display_data",
          "data": {
            "text/plain": [
              "<IPython.core.display.HTML object>"
            ],
            "text/html": [
              "\n",
              "     <input type=\"file\" id=\"files-8d59f62d-2120-4150-a59e-972d192d842b\" name=\"files[]\" multiple disabled\n",
              "        style=\"border:none\" />\n",
              "     <output id=\"result-8d59f62d-2120-4150-a59e-972d192d842b\">\n",
              "      Upload widget is only available when the cell has been executed in the\n",
              "      current browser session. Please rerun this cell to enable.\n",
              "      </output>\n",
              "      <script src=\"/nbextensions/google.colab/files.js\"></script> "
            ]
          },
          "metadata": {}
        },
        {
          "output_type": "stream",
          "name": "stdout",
          "text": [
            "Saving bodyfat.csv to bodyfat.csv\n"
          ]
        }
      ]
    },
    {
      "cell_type": "code",
      "source": [
        "import io\n",
        "df2 = pd.read_csv(io.BytesIO(uploaded['bodyfat.csv']))\n",
        "print(df2.isnull().sum())\n",
        "\n",
        "\n",
        "df2.head()"
      ],
      "metadata": {
        "colab": {
          "base_uri": "https://localhost:8080/",
          "height": 528
        },
        "id": "yUnLIt9tkXyE",
        "outputId": "ba718bbe-532d-4ffe-f502-ab190c41dad1"
      },
      "execution_count": null,
      "outputs": [
        {
          "output_type": "stream",
          "name": "stdout",
          "text": [
            "Density    0\n",
            "BodyFat    0\n",
            "Age        0\n",
            "Weight     0\n",
            "Height     0\n",
            "Neck       0\n",
            "Chest      0\n",
            "Abdomen    0\n",
            "Hip        0\n",
            "Thigh      0\n",
            "Knee       0\n",
            "Ankle      0\n",
            "Biceps     0\n",
            "Forearm    0\n",
            "Wrist      0\n",
            "dtype: int64\n"
          ]
        },
        {
          "output_type": "execute_result",
          "data": {
            "text/plain": [
              "   Density  BodyFat  Age  Weight  Height  Neck  Chest  Abdomen    Hip  Thigh  \\\n",
              "0   1.0708     12.3   23  154.25   67.75  36.2   93.1     85.2   94.5   59.0   \n",
              "1   1.0853      6.1   22  173.25   72.25  38.5   93.6     83.0   98.7   58.7   \n",
              "2   1.0414     25.3   22  154.00   66.25  34.0   95.8     87.9   99.2   59.6   \n",
              "3   1.0751     10.4   26  184.75   72.25  37.4  101.8     86.4  101.2   60.1   \n",
              "4   1.0340     28.7   24  184.25   71.25  34.4   97.3    100.0  101.9   63.2   \n",
              "\n",
              "   Knee  Ankle  Biceps  Forearm  Wrist  \n",
              "0  37.3   21.9    32.0     27.4   17.1  \n",
              "1  37.3   23.4    30.5     28.9   18.2  \n",
              "2  38.9   24.0    28.8     25.2   16.6  \n",
              "3  37.3   22.8    32.4     29.4   18.2  \n",
              "4  42.2   24.0    32.2     27.7   17.7  "
            ],
            "text/html": [
              "\n",
              "  <div id=\"df-1556352d-120a-45e3-b0ca-324c30c001ed\">\n",
              "    <div class=\"colab-df-container\">\n",
              "      <div>\n",
              "<style scoped>\n",
              "    .dataframe tbody tr th:only-of-type {\n",
              "        vertical-align: middle;\n",
              "    }\n",
              "\n",
              "    .dataframe tbody tr th {\n",
              "        vertical-align: top;\n",
              "    }\n",
              "\n",
              "    .dataframe thead th {\n",
              "        text-align: right;\n",
              "    }\n",
              "</style>\n",
              "<table border=\"1\" class=\"dataframe\">\n",
              "  <thead>\n",
              "    <tr style=\"text-align: right;\">\n",
              "      <th></th>\n",
              "      <th>Density</th>\n",
              "      <th>BodyFat</th>\n",
              "      <th>Age</th>\n",
              "      <th>Weight</th>\n",
              "      <th>Height</th>\n",
              "      <th>Neck</th>\n",
              "      <th>Chest</th>\n",
              "      <th>Abdomen</th>\n",
              "      <th>Hip</th>\n",
              "      <th>Thigh</th>\n",
              "      <th>Knee</th>\n",
              "      <th>Ankle</th>\n",
              "      <th>Biceps</th>\n",
              "      <th>Forearm</th>\n",
              "      <th>Wrist</th>\n",
              "    </tr>\n",
              "  </thead>\n",
              "  <tbody>\n",
              "    <tr>\n",
              "      <th>0</th>\n",
              "      <td>1.0708</td>\n",
              "      <td>12.3</td>\n",
              "      <td>23</td>\n",
              "      <td>154.25</td>\n",
              "      <td>67.75</td>\n",
              "      <td>36.2</td>\n",
              "      <td>93.1</td>\n",
              "      <td>85.2</td>\n",
              "      <td>94.5</td>\n",
              "      <td>59.0</td>\n",
              "      <td>37.3</td>\n",
              "      <td>21.9</td>\n",
              "      <td>32.0</td>\n",
              "      <td>27.4</td>\n",
              "      <td>17.1</td>\n",
              "    </tr>\n",
              "    <tr>\n",
              "      <th>1</th>\n",
              "      <td>1.0853</td>\n",
              "      <td>6.1</td>\n",
              "      <td>22</td>\n",
              "      <td>173.25</td>\n",
              "      <td>72.25</td>\n",
              "      <td>38.5</td>\n",
              "      <td>93.6</td>\n",
              "      <td>83.0</td>\n",
              "      <td>98.7</td>\n",
              "      <td>58.7</td>\n",
              "      <td>37.3</td>\n",
              "      <td>23.4</td>\n",
              "      <td>30.5</td>\n",
              "      <td>28.9</td>\n",
              "      <td>18.2</td>\n",
              "    </tr>\n",
              "    <tr>\n",
              "      <th>2</th>\n",
              "      <td>1.0414</td>\n",
              "      <td>25.3</td>\n",
              "      <td>22</td>\n",
              "      <td>154.00</td>\n",
              "      <td>66.25</td>\n",
              "      <td>34.0</td>\n",
              "      <td>95.8</td>\n",
              "      <td>87.9</td>\n",
              "      <td>99.2</td>\n",
              "      <td>59.6</td>\n",
              "      <td>38.9</td>\n",
              "      <td>24.0</td>\n",
              "      <td>28.8</td>\n",
              "      <td>25.2</td>\n",
              "      <td>16.6</td>\n",
              "    </tr>\n",
              "    <tr>\n",
              "      <th>3</th>\n",
              "      <td>1.0751</td>\n",
              "      <td>10.4</td>\n",
              "      <td>26</td>\n",
              "      <td>184.75</td>\n",
              "      <td>72.25</td>\n",
              "      <td>37.4</td>\n",
              "      <td>101.8</td>\n",
              "      <td>86.4</td>\n",
              "      <td>101.2</td>\n",
              "      <td>60.1</td>\n",
              "      <td>37.3</td>\n",
              "      <td>22.8</td>\n",
              "      <td>32.4</td>\n",
              "      <td>29.4</td>\n",
              "      <td>18.2</td>\n",
              "    </tr>\n",
              "    <tr>\n",
              "      <th>4</th>\n",
              "      <td>1.0340</td>\n",
              "      <td>28.7</td>\n",
              "      <td>24</td>\n",
              "      <td>184.25</td>\n",
              "      <td>71.25</td>\n",
              "      <td>34.4</td>\n",
              "      <td>97.3</td>\n",
              "      <td>100.0</td>\n",
              "      <td>101.9</td>\n",
              "      <td>63.2</td>\n",
              "      <td>42.2</td>\n",
              "      <td>24.0</td>\n",
              "      <td>32.2</td>\n",
              "      <td>27.7</td>\n",
              "      <td>17.7</td>\n",
              "    </tr>\n",
              "  </tbody>\n",
              "</table>\n",
              "</div>\n",
              "      <button class=\"colab-df-convert\" onclick=\"convertToInteractive('df-1556352d-120a-45e3-b0ca-324c30c001ed')\"\n",
              "              title=\"Convert this dataframe to an interactive table.\"\n",
              "              style=\"display:none;\">\n",
              "        \n",
              "  <svg xmlns=\"http://www.w3.org/2000/svg\" height=\"24px\"viewBox=\"0 0 24 24\"\n",
              "       width=\"24px\">\n",
              "    <path d=\"M0 0h24v24H0V0z\" fill=\"none\"/>\n",
              "    <path d=\"M18.56 5.44l.94 2.06.94-2.06 2.06-.94-2.06-.94-.94-2.06-.94 2.06-2.06.94zm-11 1L8.5 8.5l.94-2.06 2.06-.94-2.06-.94L8.5 2.5l-.94 2.06-2.06.94zm10 10l.94 2.06.94-2.06 2.06-.94-2.06-.94-.94-2.06-.94 2.06-2.06.94z\"/><path d=\"M17.41 7.96l-1.37-1.37c-.4-.4-.92-.59-1.43-.59-.52 0-1.04.2-1.43.59L10.3 9.45l-7.72 7.72c-.78.78-.78 2.05 0 2.83L4 21.41c.39.39.9.59 1.41.59.51 0 1.02-.2 1.41-.59l7.78-7.78 2.81-2.81c.8-.78.8-2.07 0-2.86zM5.41 20L4 18.59l7.72-7.72 1.47 1.35L5.41 20z\"/>\n",
              "  </svg>\n",
              "      </button>\n",
              "      \n",
              "  <style>\n",
              "    .colab-df-container {\n",
              "      display:flex;\n",
              "      flex-wrap:wrap;\n",
              "      gap: 12px;\n",
              "    }\n",
              "\n",
              "    .colab-df-convert {\n",
              "      background-color: #E8F0FE;\n",
              "      border: none;\n",
              "      border-radius: 50%;\n",
              "      cursor: pointer;\n",
              "      display: none;\n",
              "      fill: #1967D2;\n",
              "      height: 32px;\n",
              "      padding: 0 0 0 0;\n",
              "      width: 32px;\n",
              "    }\n",
              "\n",
              "    .colab-df-convert:hover {\n",
              "      background-color: #E2EBFA;\n",
              "      box-shadow: 0px 1px 2px rgba(60, 64, 67, 0.3), 0px 1px 3px 1px rgba(60, 64, 67, 0.15);\n",
              "      fill: #174EA6;\n",
              "    }\n",
              "\n",
              "    [theme=dark] .colab-df-convert {\n",
              "      background-color: #3B4455;\n",
              "      fill: #D2E3FC;\n",
              "    }\n",
              "\n",
              "    [theme=dark] .colab-df-convert:hover {\n",
              "      background-color: #434B5C;\n",
              "      box-shadow: 0px 1px 3px 1px rgba(0, 0, 0, 0.15);\n",
              "      filter: drop-shadow(0px 1px 2px rgba(0, 0, 0, 0.3));\n",
              "      fill: #FFFFFF;\n",
              "    }\n",
              "  </style>\n",
              "\n",
              "      <script>\n",
              "        const buttonEl =\n",
              "          document.querySelector('#df-1556352d-120a-45e3-b0ca-324c30c001ed button.colab-df-convert');\n",
              "        buttonEl.style.display =\n",
              "          google.colab.kernel.accessAllowed ? 'block' : 'none';\n",
              "\n",
              "        async function convertToInteractive(key) {\n",
              "          const element = document.querySelector('#df-1556352d-120a-45e3-b0ca-324c30c001ed');\n",
              "          const dataTable =\n",
              "            await google.colab.kernel.invokeFunction('convertToInteractive',\n",
              "                                                     [key], {});\n",
              "          if (!dataTable) return;\n",
              "\n",
              "          const docLinkHtml = 'Like what you see? Visit the ' +\n",
              "            '<a target=\"_blank\" href=https://colab.research.google.com/notebooks/data_table.ipynb>data table notebook</a>'\n",
              "            + ' to learn more about interactive tables.';\n",
              "          element.innerHTML = '';\n",
              "          dataTable['output_type'] = 'display_data';\n",
              "          await google.colab.output.renderOutput(dataTable, element);\n",
              "          const docLink = document.createElement('div');\n",
              "          docLink.innerHTML = docLinkHtml;\n",
              "          element.appendChild(docLink);\n",
              "        }\n",
              "      </script>\n",
              "    </div>\n",
              "  </div>\n",
              "  "
            ]
          },
          "metadata": {},
          "execution_count": 4
        }
      ]
    },
    {
      "cell_type": "code",
      "source": [
        "df2_features= df2.copy()\n",
        "df2_labels = df2_features.pop('BodyFat')"
      ],
      "metadata": {
        "id": "btOd0GuAtDQt"
      },
      "execution_count": null,
      "outputs": []
    },
    {
      "cell_type": "code",
      "source": [
        "df2_features = np.array(df2_features)\n",
        "print(df2_features)"
      ],
      "metadata": {
        "colab": {
          "base_uri": "https://localhost:8080/"
        },
        "id": "n4-bp9kalZhx",
        "outputId": "20a417dc-2dc4-4292-8c35-92e5a710f738"
      },
      "execution_count": null,
      "outputs": [
        {
          "output_type": "stream",
          "name": "stdout",
          "text": [
            "[[  1.0708  23.     154.25   ...  32.      27.4     17.1   ]\n",
            " [  1.0853  22.     173.25   ...  30.5     28.9     18.2   ]\n",
            " [  1.0414  22.     154.     ...  28.8     25.2     16.6   ]\n",
            " ...\n",
            " [  1.0328  72.     186.75   ...  31.3     27.2     18.    ]\n",
            " [  1.0399  72.     190.75   ...  30.5     29.4     19.8   ]\n",
            " [  1.0271  74.     207.5    ...  33.7     30.      20.9   ]]\n"
          ]
        }
      ]
    },
    {
      "cell_type": "code",
      "source": [
        "normalizer = tf.keras.layers.Normalization(axis=-1)"
      ],
      "metadata": {
        "id": "QTzwQ4jv5q-n"
      },
      "execution_count": null,
      "outputs": []
    },
    {
      "cell_type": "code",
      "source": [
        "normalizer.adapt(np.array(df2_features))"
      ],
      "metadata": {
        "id": "KklSiVW95tcV"
      },
      "execution_count": null,
      "outputs": []
    },
    {
      "cell_type": "code",
      "source": [
        "first = np.array(df2_features)\n",
        "df2_normalized = normalizer(np.array(df2_features)).numpy()\n",
        "with np.printoptions(precision=2, suppress=True):\n",
        "  \n",
        "  print('Normalized:', normalizer(first).numpy())"
      ],
      "metadata": {
        "colab": {
          "base_uri": "https://localhost:8080/"
        },
        "id": "vX7-zK_G5-BY",
        "outputId": "22fdbb5b-b396-4dcd-8607-a7fe42f5a365"
      },
      "execution_count": null,
      "outputs": [
        {
          "output_type": "stream",
          "name": "stdout",
          "text": [
            "Normalized: [[ 0.8  -1.74 -0.84 ... -0.09 -0.63 -1.21]\n",
            " [ 1.57 -1.82 -0.19 ... -0.59  0.12 -0.03]\n",
            " [-0.75 -1.82 -0.85 ... -1.15 -1.72 -1.75]\n",
            " ...\n",
            " [-1.2   2.16  0.27 ... -0.32 -0.73 -0.25]\n",
            " [-0.83  2.16  0.4  ... -0.59  0.37  1.69]\n",
            " [-1.5   2.31  0.97 ...  0.47  0.66  2.87]]\n"
          ]
        }
      ]
    },
    {
      "cell_type": "code",
      "source": [
        "from sklearn.model_selection import train_test_split\n",
        "\n",
        "train_ratio = 0.70\n",
        "validation_ratio = 0.15\n",
        "test_ratio = 0.15\n",
        "\n",
        "\n",
        "\n",
        "# features = ['Density','Age'\t,'Weight',\t'Height'\t,'Neck'\t,'Chest'\t,'Abdomen\tHip'\t,'Thigh'\t,'Knee'\t,'Ankle\tBiceps'\t,'Forearm'\t,'Wrist']\n",
        "# label = 'BodyFat'\n",
        "\n",
        "x_train, x_test, y_train, y_test = train_test_split(df2_normalized,\n",
        "                                                    df2_labels.values,\n",
        "                                                    test_size=0.15,\n",
        "                                                    random_state=0)\n",
        "\n",
        "x_val, x_test, y_val, y_test = train_test_split(x_test, y_test, test_size=test_ratio/(test_ratio + validation_ratio),random_state=0)\n",
        "\n"
      ],
      "metadata": {
        "id": "MGf6AbQnuUcm"
      },
      "execution_count": null,
      "outputs": []
    },
    {
      "cell_type": "code",
      "source": [
        "model1 = tf.keras.Sequential()\n",
        "\n",
        "model1.add(tf.keras.layers.Flatten(input_shape=[14], name=\"inputLayer\"))\n",
        "model1.add(tf.keras.layers.Dense(128, activation=\"relu\", name=\"HiddenLayer1\",kernel_regularizer=tf.keras.regularizers.L2(0.01)))\n",
        "model1.add(tf.keras.layers.Dense(64, activation=\"relu\", name=\"HiddenLayer2\",kernel_regularizer=tf.keras.regularizers.L2(0.01)))\n",
        "# model1.add(tf.keras.layers.Dense(32, activation=\"relu\", name=\"HiddenLayer3\",kernel_regularizer=tf.keras.regularizers.L1(0.01)))\n",
        "model1.add(tf.keras.layers.Dense(1, activation=\"relu\", name=\"outputLayer\"))\n",
        "model1.summary()"
      ],
      "metadata": {
        "colab": {
          "base_uri": "https://localhost:8080/"
        },
        "id": "DAFIjkRlyV9m",
        "outputId": "b08d57bc-7025-414f-9dd7-23d3d57d4b8a"
      },
      "execution_count": null,
      "outputs": [
        {
          "output_type": "stream",
          "name": "stdout",
          "text": [
            "Model: \"sequential_6\"\n",
            "_________________________________________________________________\n",
            " Layer (type)                Output Shape              Param #   \n",
            "=================================================================\n",
            " inputLayer (Flatten)        (None, 14)                0         \n",
            "                                                                 \n",
            " HiddenLayer1 (Dense)        (None, 128)               1920      \n",
            "                                                                 \n",
            " HiddenLayer2 (Dense)        (None, 64)                8256      \n",
            "                                                                 \n",
            " outputLayer (Dense)         (None, 1)                 65        \n",
            "                                                                 \n",
            "=================================================================\n",
            "Total params: 10,241\n",
            "Trainable params: 10,241\n",
            "Non-trainable params: 0\n",
            "_________________________________________________________________\n"
          ]
        }
      ]
    },
    {
      "cell_type": "code",
      "source": [
        "model1.compile(\n",
        "    optimizer=tf.keras.optimizers.Adam(learning_rate=0.1),\n",
        "    loss='mean_squared_error',metrics='RootMeanSquaredError')\n",
        "\n",
        "\n",
        "batch_size = 32\n",
        "epochs = 120"
      ],
      "metadata": {
        "id": "mbEfiNwsygAu"
      },
      "execution_count": null,
      "outputs": []
    },
    {
      "cell_type": "code",
      "source": [
        "history = model1.fit(x_train, y_train, batch_size=batch_size, epochs=epochs,validation_data=(x_val, y_val))"
      ],
      "metadata": {
        "colab": {
          "base_uri": "https://localhost:8080/"
        },
        "id": "xVRfGTKt1gZr",
        "outputId": "bf4e719e-00e2-46d6-d70e-527947b059d9"
      },
      "execution_count": null,
      "outputs": [
        {
          "output_type": "stream",
          "name": "stdout",
          "text": [
            "Epoch 1/120\n",
            "7/7 [==============================] - 1s 25ms/step - loss: 332.9549 - root_mean_squared_error: 18.1678 - val_loss: 289.4430 - val_root_mean_squared_error: 16.8433\n",
            "Epoch 2/120\n",
            "7/7 [==============================] - 0s 6ms/step - loss: 313.6740 - root_mean_squared_error: 17.5039 - val_loss: 186.5102 - val_root_mean_squared_error: 13.3201\n",
            "Epoch 3/120\n",
            "7/7 [==============================] - 0s 6ms/step - loss: 141.7135 - root_mean_squared_error: 11.4805 - val_loss: 141.7977 - val_root_mean_squared_error: 11.4429\n",
            "Epoch 4/120\n",
            "7/7 [==============================] - 0s 6ms/step - loss: 97.4528 - root_mean_squared_error: 9.2689 - val_loss: 60.9039 - val_root_mean_squared_error: 6.9664\n",
            "Epoch 5/120\n",
            "7/7 [==============================] - 0s 6ms/step - loss: 91.8554 - root_mean_squared_error: 8.8927 - val_loss: 64.6778 - val_root_mean_squared_error: 7.1686\n",
            "Epoch 6/120\n",
            "7/7 [==============================] - 0s 6ms/step - loss: 46.3900 - root_mean_squared_error: 5.7265 - val_loss: 46.7699 - val_root_mean_squared_error: 5.7149\n",
            "Epoch 7/120\n",
            "7/7 [==============================] - 0s 6ms/step - loss: 29.6674 - root_mean_squared_error: 3.8997 - val_loss: 32.6560 - val_root_mean_squared_error: 4.2039\n",
            "Epoch 8/120\n",
            "7/7 [==============================] - 0s 9ms/step - loss: 22.8844 - root_mean_squared_error: 2.7552 - val_loss: 25.5245 - val_root_mean_squared_error: 3.1442\n",
            "Epoch 9/120\n",
            "7/7 [==============================] - 0s 5ms/step - loss: 19.9041 - root_mean_squared_error: 2.0494 - val_loss: 20.4176 - val_root_mean_squared_error: 2.1768\n",
            "Epoch 10/120\n",
            "7/7 [==============================] - 0s 9ms/step - loss: 18.6263 - root_mean_squared_error: 1.7656 - val_loss: 19.6326 - val_root_mean_squared_error: 2.1103\n",
            "Epoch 11/120\n",
            "7/7 [==============================] - 0s 6ms/step - loss: 17.3173 - root_mean_squared_error: 1.5568 - val_loss: 16.7098 - val_root_mean_squared_error: 1.4992\n",
            "Epoch 12/120\n",
            "7/7 [==============================] - 0s 5ms/step - loss: 16.2134 - root_mean_squared_error: 1.4356 - val_loss: 15.5823 - val_root_mean_squared_error: 1.3728\n",
            "Epoch 13/120\n",
            "7/7 [==============================] - 0s 5ms/step - loss: 15.0323 - root_mean_squared_error: 1.2799 - val_loss: 14.1126 - val_root_mean_squared_error: 1.0760\n",
            "Epoch 14/120\n",
            "7/7 [==============================] - 0s 6ms/step - loss: 14.2219 - root_mean_squared_error: 1.2483 - val_loss: 13.1715 - val_root_mean_squared_error: 0.9658\n",
            "Epoch 15/120\n",
            "7/7 [==============================] - 0s 6ms/step - loss: 13.2401 - root_mean_squared_error: 1.1326 - val_loss: 12.2701 - val_root_mean_squared_error: 0.8432\n",
            "Epoch 16/120\n",
            "7/7 [==============================] - 0s 6ms/step - loss: 12.3333 - root_mean_squared_error: 1.0142 - val_loss: 11.4196 - val_root_mean_squared_error: 0.6963\n",
            "Epoch 17/120\n",
            "7/7 [==============================] - 0s 6ms/step - loss: 11.6223 - root_mean_squared_error: 0.9712 - val_loss: 10.7378 - val_root_mean_squared_error: 0.6449\n",
            "Epoch 18/120\n",
            "7/7 [==============================] - 0s 6ms/step - loss: 10.8724 - root_mean_squared_error: 0.8857 - val_loss: 10.1028 - val_root_mean_squared_error: 0.5859\n",
            "Epoch 19/120\n",
            "7/7 [==============================] - 0s 6ms/step - loss: 10.2520 - root_mean_squared_error: 0.8405 - val_loss: 9.8345 - val_root_mean_squared_error: 0.7663\n",
            "Epoch 20/120\n",
            "7/7 [==============================] - 0s 6ms/step - loss: 10.2338 - root_mean_squared_error: 1.0861 - val_loss: 9.8289 - val_root_mean_squared_error: 1.0214\n",
            "Epoch 21/120\n",
            "7/7 [==============================] - 0s 6ms/step - loss: 9.6807 - root_mean_squared_error: 1.0320 - val_loss: 8.9250 - val_root_mean_squared_error: 0.7397\n",
            "Epoch 22/120\n",
            "7/7 [==============================] - 0s 6ms/step - loss: 9.3314 - root_mean_squared_error: 1.0467 - val_loss: 8.6359 - val_root_mean_squared_error: 0.7816\n",
            "Epoch 23/120\n",
            "7/7 [==============================] - 0s 7ms/step - loss: 8.6174 - root_mean_squared_error: 0.8594 - val_loss: 8.0907 - val_root_mean_squared_error: 0.6525\n",
            "Epoch 24/120\n",
            "7/7 [==============================] - 0s 6ms/step - loss: 8.2903 - root_mean_squared_error: 0.8806 - val_loss: 7.9755 - val_root_mean_squared_error: 0.8141\n",
            "Epoch 25/120\n",
            "7/7 [==============================] - 0s 6ms/step - loss: 8.2178 - root_mean_squared_error: 0.9784 - val_loss: 7.5890 - val_root_mean_squared_error: 0.6028\n",
            "Epoch 26/120\n",
            "7/7 [==============================] - 0s 6ms/step - loss: 7.8605 - root_mean_squared_error: 0.8200 - val_loss: 7.5269 - val_root_mean_squared_error: 0.6504\n",
            "Epoch 27/120\n",
            "7/7 [==============================] - 0s 6ms/step - loss: 7.6703 - root_mean_squared_error: 0.8119 - val_loss: 7.1975 - val_root_mean_squared_error: 0.5879\n",
            "Epoch 28/120\n",
            "7/7 [==============================] - 0s 6ms/step - loss: 7.5358 - root_mean_squared_error: 0.9011 - val_loss: 6.9088 - val_root_mean_squared_error: 0.6098\n",
            "Epoch 29/120\n",
            "7/7 [==============================] - 0s 6ms/step - loss: 11.3812 - root_mean_squared_error: 2.2190 - val_loss: 9.9956 - val_root_mean_squared_error: 1.8830\n",
            "Epoch 30/120\n",
            "7/7 [==============================] - 0s 6ms/step - loss: 11.1348 - root_mean_squared_error: 2.1586 - val_loss: 12.7931 - val_root_mean_squared_error: 2.5142\n",
            "Epoch 31/120\n",
            "7/7 [==============================] - 0s 6ms/step - loss: 10.3308 - root_mean_squared_error: 1.9725 - val_loss: 8.3625 - val_root_mean_squared_error: 1.4224\n",
            "Epoch 32/120\n",
            "7/7 [==============================] - 0s 6ms/step - loss: 10.5471 - root_mean_squared_error: 2.0773 - val_loss: 8.0165 - val_root_mean_squared_error: 1.4016\n",
            "Epoch 33/120\n",
            "7/7 [==============================] - 0s 6ms/step - loss: 8.8454 - root_mean_squared_error: 1.7117 - val_loss: 8.2315 - val_root_mean_squared_error: 1.5785\n",
            "Epoch 34/120\n",
            "7/7 [==============================] - 0s 6ms/step - loss: 9.8276 - root_mean_squared_error: 2.0553 - val_loss: 6.2004 - val_root_mean_squared_error: 0.8899\n",
            "Epoch 35/120\n",
            "7/7 [==============================] - 0s 6ms/step - loss: 9.4117 - root_mean_squared_error: 2.0305 - val_loss: 6.7529 - val_root_mean_squared_error: 1.2824\n",
            "Epoch 36/120\n",
            "7/7 [==============================] - 0s 6ms/step - loss: 9.6991 - root_mean_squared_error: 2.1633 - val_loss: 12.4635 - val_root_mean_squared_error: 2.7597\n",
            "Epoch 37/120\n",
            "7/7 [==============================] - 0s 6ms/step - loss: 10.1034 - root_mean_squared_error: 2.3090 - val_loss: 14.2374 - val_root_mean_squared_error: 3.0988\n",
            "Epoch 38/120\n",
            "7/7 [==============================] - 0s 6ms/step - loss: 9.1481 - root_mean_squared_error: 2.1457 - val_loss: 6.9891 - val_root_mean_squared_error: 1.6096\n",
            "Epoch 39/120\n",
            "7/7 [==============================] - 0s 6ms/step - loss: 8.1821 - root_mean_squared_error: 1.9602 - val_loss: 4.9080 - val_root_mean_squared_error: 0.8284\n",
            "Epoch 40/120\n",
            "7/7 [==============================] - 0s 6ms/step - loss: 7.1310 - root_mean_squared_error: 1.7239 - val_loss: 8.2359 - val_root_mean_squared_error: 2.0439\n",
            "Epoch 41/120\n",
            "7/7 [==============================] - 0s 6ms/step - loss: 6.3927 - root_mean_squared_error: 1.5509 - val_loss: 4.7404 - val_root_mean_squared_error: 0.9203\n",
            "Epoch 42/120\n",
            "7/7 [==============================] - 0s 6ms/step - loss: 5.3151 - root_mean_squared_error: 1.2161 - val_loss: 5.1131 - val_root_mean_squared_error: 1.1670\n",
            "Epoch 43/120\n",
            "7/7 [==============================] - 0s 6ms/step - loss: 5.3230 - root_mean_squared_error: 1.2749 - val_loss: 4.6768 - val_root_mean_squared_error: 1.0265\n",
            "Epoch 44/120\n",
            "7/7 [==============================] - 0s 5ms/step - loss: 4.9189 - root_mean_squared_error: 1.1656 - val_loss: 4.2495 - val_root_mean_squared_error: 0.8832\n",
            "Epoch 45/120\n",
            "7/7 [==============================] - 0s 6ms/step - loss: 4.4883 - root_mean_squared_error: 1.0319 - val_loss: 3.9569 - val_root_mean_squared_error: 0.7794\n",
            "Epoch 46/120\n",
            "7/7 [==============================] - 0s 6ms/step - loss: 4.1496 - root_mean_squared_error: 0.9175 - val_loss: 3.6371 - val_root_mean_squared_error: 0.6265\n",
            "Epoch 47/120\n",
            "7/7 [==============================] - 0s 6ms/step - loss: 4.0594 - root_mean_squared_error: 0.9252 - val_loss: 3.6862 - val_root_mean_squared_error: 0.7398\n",
            "Epoch 48/120\n",
            "7/7 [==============================] - 0s 6ms/step - loss: 3.8814 - root_mean_squared_error: 0.8890 - val_loss: 3.4823 - val_root_mean_squared_error: 0.6726\n",
            "Epoch 49/120\n",
            "7/7 [==============================] - 0s 6ms/step - loss: 3.7809 - root_mean_squared_error: 0.8878 - val_loss: 3.4560 - val_root_mean_squared_error: 0.7142\n",
            "Epoch 50/120\n",
            "7/7 [==============================] - 0s 6ms/step - loss: 3.6308 - root_mean_squared_error: 0.8528 - val_loss: 3.2345 - val_root_mean_squared_error: 0.6237\n",
            "Epoch 51/120\n",
            "7/7 [==============================] - 0s 6ms/step - loss: 3.5955 - root_mean_squared_error: 0.8874 - val_loss: 3.0396 - val_root_mean_squared_error: 0.5338\n",
            "Epoch 52/120\n",
            "7/7 [==============================] - 0s 6ms/step - loss: 3.6024 - root_mean_squared_error: 0.9413 - val_loss: 3.2192 - val_root_mean_squared_error: 0.7407\n",
            "Epoch 53/120\n",
            "7/7 [==============================] - 0s 6ms/step - loss: 3.3615 - root_mean_squared_error: 0.8475 - val_loss: 3.1006 - val_root_mean_squared_error: 0.7099\n",
            "Epoch 54/120\n",
            "7/7 [==============================] - 0s 6ms/step - loss: 3.3180 - root_mean_squared_error: 0.8703 - val_loss: 2.8922 - val_root_mean_squared_error: 0.6182\n",
            "Epoch 55/120\n",
            "7/7 [==============================] - 0s 6ms/step - loss: 3.1175 - root_mean_squared_error: 0.8011 - val_loss: 3.0724 - val_root_mean_squared_error: 0.7997\n",
            "Epoch 56/120\n",
            "7/7 [==============================] - 0s 6ms/step - loss: 3.1282 - root_mean_squared_error: 0.8542 - val_loss: 2.7081 - val_root_mean_squared_error: 0.5907\n",
            "Epoch 57/120\n",
            "7/7 [==============================] - 0s 6ms/step - loss: 2.9950 - root_mean_squared_error: 0.8119 - val_loss: 2.8318 - val_root_mean_squared_error: 0.7306\n",
            "Epoch 58/120\n",
            "7/7 [==============================] - 0s 6ms/step - loss: 3.0268 - root_mean_squared_error: 0.8674 - val_loss: 2.9285 - val_root_mean_squared_error: 0.8303\n",
            "Epoch 59/120\n",
            "7/7 [==============================] - 0s 6ms/step - loss: 2.9459 - root_mean_squared_error: 0.8557 - val_loss: 2.5511 - val_root_mean_squared_error: 0.6085\n",
            "Epoch 60/120\n",
            "7/7 [==============================] - 0s 7ms/step - loss: 2.7034 - root_mean_squared_error: 0.7406 - val_loss: 2.4013 - val_root_mean_squared_error: 0.5285\n",
            "Epoch 61/120\n",
            "7/7 [==============================] - 0s 6ms/step - loss: 2.6444 - root_mean_squared_error: 0.7393 - val_loss: 2.3117 - val_root_mean_squared_error: 0.4976\n",
            "Epoch 62/120\n",
            "7/7 [==============================] - 0s 6ms/step - loss: 2.6096 - root_mean_squared_error: 0.7539 - val_loss: 2.3698 - val_root_mean_squared_error: 0.5999\n",
            "Epoch 63/120\n",
            "7/7 [==============================] - 0s 6ms/step - loss: 2.5147 - root_mean_squared_error: 0.7272 - val_loss: 2.3281 - val_root_mean_squared_error: 0.6120\n",
            "Epoch 64/120\n",
            "7/7 [==============================] - 0s 7ms/step - loss: 2.4459 - root_mean_squared_error: 0.7163 - val_loss: 2.1902 - val_root_mean_squared_error: 0.5337\n",
            "Epoch 65/120\n",
            "7/7 [==============================] - 0s 7ms/step - loss: 2.3652 - root_mean_squared_error: 0.6927 - val_loss: 2.1127 - val_root_mean_squared_error: 0.5045\n",
            "Epoch 66/120\n",
            "7/7 [==============================] - 0s 6ms/step - loss: 2.3707 - root_mean_squared_error: 0.7288 - val_loss: 2.0718 - val_root_mean_squared_error: 0.5089\n",
            "Epoch 67/120\n",
            "7/7 [==============================] - 0s 6ms/step - loss: 2.3607 - root_mean_squared_error: 0.7520 - val_loss: 2.0291 - val_root_mean_squared_error: 0.5118\n",
            "Epoch 68/120\n",
            "7/7 [==============================] - 0s 6ms/step - loss: 2.3180 - root_mean_squared_error: 0.7553 - val_loss: 2.0397 - val_root_mean_squared_error: 0.5591\n",
            "Epoch 69/120\n",
            "7/7 [==============================] - 0s 6ms/step - loss: 2.3751 - root_mean_squared_error: 0.8149 - val_loss: 1.8945 - val_root_mean_squared_error: 0.4568\n",
            "Epoch 70/120\n",
            "7/7 [==============================] - 0s 6ms/step - loss: 2.2852 - root_mean_squared_error: 0.7850 - val_loss: 1.9450 - val_root_mean_squared_error: 0.5448\n",
            "Epoch 71/120\n",
            "7/7 [==============================] - 0s 6ms/step - loss: 2.1792 - root_mean_squared_error: 0.7396 - val_loss: 2.0734 - val_root_mean_squared_error: 0.6786\n",
            "Epoch 72/120\n",
            "7/7 [==============================] - 0s 6ms/step - loss: 2.1667 - root_mean_squared_error: 0.7556 - val_loss: 1.8013 - val_root_mean_squared_error: 0.4763\n",
            "Epoch 73/120\n",
            "7/7 [==============================] - 0s 8ms/step - loss: 2.0450 - root_mean_squared_error: 0.6973 - val_loss: 1.7738 - val_root_mean_squared_error: 0.4862\n",
            "Epoch 74/120\n",
            "7/7 [==============================] - 0s 6ms/step - loss: 1.9972 - root_mean_squared_error: 0.6878 - val_loss: 1.7362 - val_root_mean_squared_error: 0.4814\n",
            "Epoch 75/120\n",
            "7/7 [==============================] - 0s 6ms/step - loss: 2.0204 - root_mean_squared_error: 0.7269 - val_loss: 1.7157 - val_root_mean_squared_error: 0.4990\n",
            "Epoch 76/120\n",
            "7/7 [==============================] - 0s 6ms/step - loss: 1.9432 - root_mean_squared_error: 0.6994 - val_loss: 1.6957 - val_root_mean_squared_error: 0.5107\n",
            "Epoch 77/120\n",
            "7/7 [==============================] - 0s 6ms/step - loss: 2.1359 - root_mean_squared_error: 0.8442 - val_loss: 1.7258 - val_root_mean_squared_error: 0.5651\n",
            "Epoch 78/120\n",
            "7/7 [==============================] - 0s 6ms/step - loss: 2.0545 - root_mean_squared_error: 0.8128 - val_loss: 1.8748 - val_root_mean_squared_error: 0.7076\n",
            "Epoch 79/120\n",
            "7/7 [==============================] - 0s 6ms/step - loss: 2.4207 - root_mean_squared_error: 1.0280 - val_loss: 2.7420 - val_root_mean_squared_error: 1.1797\n",
            "Epoch 80/120\n",
            "7/7 [==============================] - 0s 6ms/step - loss: 2.3893 - root_mean_squared_error: 1.0222 - val_loss: 1.7146 - val_root_mean_squared_error: 0.6259\n",
            "Epoch 81/120\n",
            "7/7 [==============================] - 0s 6ms/step - loss: 2.0120 - root_mean_squared_error: 0.8397 - val_loss: 1.8797 - val_root_mean_squared_error: 0.7671\n",
            "Epoch 82/120\n",
            "7/7 [==============================] - 0s 6ms/step - loss: 2.0084 - root_mean_squared_error: 0.8512 - val_loss: 2.1037 - val_root_mean_squared_error: 0.9104\n",
            "Epoch 83/120\n",
            "7/7 [==============================] - 0s 6ms/step - loss: 2.9080 - root_mean_squared_error: 1.2817 - val_loss: 1.8081 - val_root_mean_squared_error: 0.7513\n",
            "Epoch 84/120\n",
            "7/7 [==============================] - 0s 6ms/step - loss: 3.2261 - root_mean_squared_error: 1.4121 - val_loss: 3.1495 - val_root_mean_squared_error: 1.3857\n",
            "Epoch 85/120\n",
            "7/7 [==============================] - 0s 6ms/step - loss: 2.9159 - root_mean_squared_error: 1.3082 - val_loss: 1.6920 - val_root_mean_squared_error: 0.7101\n",
            "Epoch 86/120\n",
            "7/7 [==============================] - 0s 6ms/step - loss: 2.4729 - root_mean_squared_error: 1.1316 - val_loss: 1.6779 - val_root_mean_squared_error: 0.6965\n",
            "Epoch 87/120\n",
            "7/7 [==============================] - 0s 6ms/step - loss: 2.5673 - root_mean_squared_error: 1.1747 - val_loss: 2.6774 - val_root_mean_squared_error: 1.2291\n",
            "Epoch 88/120\n",
            "7/7 [==============================] - 0s 6ms/step - loss: 2.5676 - root_mean_squared_error: 1.1909 - val_loss: 1.9391 - val_root_mean_squared_error: 0.8900\n",
            "Epoch 89/120\n",
            "7/7 [==============================] - 0s 6ms/step - loss: 2.3831 - root_mean_squared_error: 1.1168 - val_loss: 1.9932 - val_root_mean_squared_error: 0.9224\n",
            "Epoch 90/120\n",
            "7/7 [==============================] - 0s 6ms/step - loss: 2.5048 - root_mean_squared_error: 1.1684 - val_loss: 2.4211 - val_root_mean_squared_error: 1.1282\n",
            "Epoch 91/120\n",
            "7/7 [==============================] - 0s 6ms/step - loss: 2.2579 - root_mean_squared_error: 1.0531 - val_loss: 2.2407 - val_root_mean_squared_error: 1.0536\n",
            "Epoch 92/120\n",
            "7/7 [==============================] - 0s 6ms/step - loss: 2.2364 - root_mean_squared_error: 1.0531 - val_loss: 1.8349 - val_root_mean_squared_error: 0.8485\n",
            "Epoch 93/120\n",
            "7/7 [==============================] - 0s 6ms/step - loss: 1.9034 - root_mean_squared_error: 0.8952 - val_loss: 1.5689 - val_root_mean_squared_error: 0.6904\n",
            "Epoch 94/120\n",
            "7/7 [==============================] - 0s 6ms/step - loss: 1.8418 - root_mean_squared_error: 0.8717 - val_loss: 1.5279 - val_root_mean_squared_error: 0.6843\n",
            "Epoch 95/120\n",
            "7/7 [==============================] - 0s 6ms/step - loss: 1.7909 - root_mean_squared_error: 0.8600 - val_loss: 1.5291 - val_root_mean_squared_error: 0.7027\n",
            "Epoch 96/120\n",
            "7/7 [==============================] - 0s 6ms/step - loss: 1.9652 - root_mean_squared_error: 0.9688 - val_loss: 2.2736 - val_root_mean_squared_error: 1.1208\n",
            "Epoch 97/120\n",
            "7/7 [==============================] - 0s 6ms/step - loss: 2.5373 - root_mean_squared_error: 1.2347 - val_loss: 1.7647 - val_root_mean_squared_error: 0.8748\n",
            "Epoch 98/120\n",
            "7/7 [==============================] - 0s 6ms/step - loss: 2.1149 - root_mean_squared_error: 1.0593 - val_loss: 1.4068 - val_root_mean_squared_error: 0.6579\n",
            "Epoch 99/120\n",
            "7/7 [==============================] - 0s 6ms/step - loss: 1.6612 - root_mean_squared_error: 0.8357 - val_loss: 1.3289 - val_root_mean_squared_error: 0.6126\n",
            "Epoch 100/120\n",
            "7/7 [==============================] - 0s 6ms/step - loss: 1.5155 - root_mean_squared_error: 0.7501 - val_loss: 1.2998 - val_root_mean_squared_error: 0.5952\n",
            "Epoch 101/120\n",
            "7/7 [==============================] - 0s 7ms/step - loss: 1.6356 - root_mean_squared_error: 0.8394 - val_loss: 2.0821 - val_root_mean_squared_error: 1.0782\n",
            "Epoch 102/120\n",
            "7/7 [==============================] - 0s 7ms/step - loss: 1.9471 - root_mean_squared_error: 1.0125 - val_loss: 2.0438 - val_root_mean_squared_error: 1.0592\n",
            "Epoch 103/120\n",
            "7/7 [==============================] - 0s 6ms/step - loss: 2.0831 - root_mean_squared_error: 1.0806 - val_loss: 1.4029 - val_root_mean_squared_error: 0.7080\n",
            "Epoch 104/120\n",
            "7/7 [==============================] - 0s 7ms/step - loss: 1.8350 - root_mean_squared_error: 0.9740 - val_loss: 1.8813 - val_root_mean_squared_error: 1.0046\n",
            "Epoch 105/120\n",
            "7/7 [==============================] - 0s 6ms/step - loss: 2.2679 - root_mean_squared_error: 1.1809 - val_loss: 1.7536 - val_root_mean_squared_error: 0.9431\n",
            "Epoch 106/120\n",
            "7/7 [==============================] - 0s 6ms/step - loss: 2.9297 - root_mean_squared_error: 1.4377 - val_loss: 2.8978 - val_root_mean_squared_error: 1.4216\n",
            "Epoch 107/120\n",
            "7/7 [==============================] - 0s 7ms/step - loss: 4.4014 - root_mean_squared_error: 1.8798 - val_loss: 1.5583 - val_root_mean_squared_error: 0.8341\n",
            "Epoch 108/120\n",
            "7/7 [==============================] - 0s 8ms/step - loss: 3.9626 - root_mean_squared_error: 1.7574 - val_loss: 5.2899 - val_root_mean_squared_error: 2.1060\n",
            "Epoch 109/120\n",
            "7/7 [==============================] - 0s 9ms/step - loss: 4.1272 - root_mean_squared_error: 1.8090 - val_loss: 3.8888 - val_root_mean_squared_error: 1.7368\n",
            "Epoch 110/120\n",
            "7/7 [==============================] - 0s 8ms/step - loss: 3.9964 - root_mean_squared_error: 1.7720 - val_loss: 2.5883 - val_root_mean_squared_error: 1.3116\n",
            "Epoch 111/120\n",
            "7/7 [==============================] - 0s 8ms/step - loss: 6.7986 - root_mean_squared_error: 2.4394 - val_loss: 3.8891 - val_root_mean_squared_error: 1.7458\n",
            "Epoch 112/120\n",
            "7/7 [==============================] - 0s 9ms/step - loss: 5.3732 - root_mean_squared_error: 2.1262 - val_loss: 4.1421 - val_root_mean_squared_error: 1.8155\n",
            "Epoch 113/120\n",
            "7/7 [==============================] - 0s 10ms/step - loss: 5.7474 - root_mean_squared_error: 2.2160 - val_loss: 5.9062 - val_root_mean_squared_error: 2.2536\n",
            "Epoch 114/120\n",
            "7/7 [==============================] - 0s 9ms/step - loss: 4.6239 - root_mean_squared_error: 1.9436 - val_loss: 3.4209 - val_root_mean_squared_error: 1.5900\n",
            "Epoch 115/120\n",
            "7/7 [==============================] - 0s 8ms/step - loss: 3.3708 - root_mean_squared_error: 1.5753 - val_loss: 1.3903 - val_root_mean_squared_error: 0.7175\n",
            "Epoch 116/120\n",
            "7/7 [==============================] - 0s 9ms/step - loss: 2.5085 - root_mean_squared_error: 1.2800 - val_loss: 1.7543 - val_root_mean_squared_error: 0.9450\n",
            "Epoch 117/120\n",
            "7/7 [==============================] - 0s 8ms/step - loss: 1.8721 - root_mean_squared_error: 1.0079 - val_loss: 1.6668 - val_root_mean_squared_error: 0.9035\n",
            "Epoch 118/120\n",
            "7/7 [==============================] - 0s 8ms/step - loss: 1.9721 - root_mean_squared_error: 1.0626 - val_loss: 2.1880 - val_root_mean_squared_error: 1.1599\n",
            "Epoch 119/120\n",
            "7/7 [==============================] - 0s 11ms/step - loss: 2.5821 - root_mean_squared_error: 1.3207 - val_loss: 1.4402 - val_root_mean_squared_error: 0.7845\n",
            "Epoch 120/120\n",
            "7/7 [==============================] - 0s 8ms/step - loss: 2.0834 - root_mean_squared_error: 1.1271 - val_loss: 2.5743 - val_root_mean_squared_error: 1.3306\n"
          ]
        }
      ]
    },
    {
      "cell_type": "code",
      "source": [
        "model1.evaluate(x_test,y_test)"
      ],
      "metadata": {
        "colab": {
          "base_uri": "https://localhost:8080/"
        },
        "id": "4ckyJWTM4QVF",
        "outputId": "83be7175-d57f-45fe-af6a-611ce3fa31bd"
      },
      "execution_count": null,
      "outputs": [
        {
          "output_type": "stream",
          "name": "stdout",
          "text": [
            "1/1 [==============================] - 0s 23ms/step - loss: 3.0268 - root_mean_squared_error: 1.4910\n"
          ]
        },
        {
          "output_type": "execute_result",
          "data": {
            "text/plain": [
              "[3.0268335342407227, 1.4909956455230713]"
            ]
          },
          "metadata": {},
          "execution_count": 57
        }
      ]
    },
    {
      "cell_type": "code",
      "source": [
        "sns.set_style(\"darkgrid\")\n",
        "#get the details form the history object\n",
        "# acc = history.history['Root']\n",
        "# val_acc = history.history['val_accuracy']\n",
        "loss = history.history['loss']\n",
        "val_loss = history.history['val_loss']\n",
        "\n",
        "epochs = range(120)\n",
        "\n",
        "#Train and validation accuracy\n",
        "# plt.plot(epochs, acc, 'b', label='Training accurarcy')\n",
        "# plt.plot(epochs, val_acc, 'r', label='Validation accurarcy')\n",
        "# plt.xlabel('Epoch #')\n",
        "# plt.ylabel('accuracy')\n",
        "# plt.title('Training and Validation accurarcy')\n",
        "# plt.legend()\n",
        "# #plt.savefig('ensemble_seresnext50_eff-b3_graph_test_acc.png')\n",
        "\n",
        "# plt.figure()\n",
        "#Train and validation loss\n",
        "plt.plot(epochs, loss, 'b', label='Training loss')\n",
        "plt.plot(epochs, val_loss, 'r', label='Validation loss')\n",
        "plt.xlabel('Epoch #')\n",
        "plt.ylabel('loss')\n",
        "plt.title('Training and Validation loss')\n",
        "plt.legend()\n",
        "#plt.savefig('ensemble_seresnext50_eff-b3_graph_test_loss.png')\n",
        "\n",
        "plt.show()"
      ],
      "metadata": {
        "colab": {
          "base_uri": "https://localhost:8080/",
          "height": 295
        },
        "id": "2TjB2LovAcE9",
        "outputId": "d35bb5e1-f1b8-4030-bd48-8f07adb8fcb7"
      },
      "execution_count": null,
      "outputs": [
        {
          "output_type": "display_data",
          "data": {
            "text/plain": [
              "<Figure size 432x288 with 1 Axes>"
            ],
            "image/png": "[encoded data removed]"
          },
          "metadata": {}
        }
      ]
    },
    {
      "cell_type": "code",
      "source": [
        "# 2 Hidden Layers are optimal.\n",
        "# RELU is optimal for hidden layers since using sigmoid we are getting higher loss so its not preferable.\n",
        "# When we are using very small learning rate its taking very long time to get  the Global Optimum.\n",
        "# Regularization is helping for our model.We tested out both L1 and L2 with regularization parameter of 0.01 and found out that L2 is performing better."
      ],
      "metadata": {
        "id": "ZZ0a6-WeBMtt"
      },
      "execution_count": null,
      "outputs": []
    },
    {
      "cell_type": "code",
      "source": [
        ""
      ],
      "metadata": {
        "id": "cwWLY39BEvHl"
      },
      "execution_count": null,
      "outputs": []
    }
  ]
}