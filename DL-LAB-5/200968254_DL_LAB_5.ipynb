{
  "nbformat": 4,
  "nbformat_minor": 0,
  "metadata": {
    "colab": {
      "provenance": [],
      "collapsed_sections": []
    },
    "kernelspec": {
      "name": "python3",
      "display_name": "Python 3"
    },
    "language_info": {
      "name": "python"
    }
  },
  "cells": [
    {
      "cell_type": "code",
      "execution_count": null,
      "metadata": {
        "id": "FJtZR3OB0ogl"
      },
      "outputs": [],
      "source": [
        "import pandas as pd\n",
        "from sklearn.datasets import fetch_california_housing\n",
        "from sklearn.model_selection import train_test_split\n",
        "import keras\n",
        "import keras.layers as layers\n",
        "import tensorflow as tf\n",
        "from keras import optimizers\n",
        "from keras.optimizers import rmsprop_v2\n",
        "import seaborn as sns\n",
        "import matplotlib.pyplot as plt\n",
        "import numpy as np"
      ]
    },
    {
      "cell_type": "code",
      "source": [
        "cal_housing = fetch_california_housing()"
      ],
      "metadata": {
        "id": "7ZM27tWI03eR"
      },
      "execution_count": null,
      "outputs": []
    },
    {
      "cell_type": "code",
      "source": [
        "X = pd.DataFrame(cal_housing.data, columns=cal_housing.feature_names)\n",
        "y = cal_housing.target"
      ],
      "metadata": {
        "id": "9G1nvupq0-hA"
      },
      "execution_count": null,
      "outputs": []
    },
    {
      "cell_type": "code",
      "source": [
        "normalizer = tf.keras.layers.Normalization(axis=-1)\n",
        "normalizer.adapt(np.array(X))\n",
        "\n",
        "first = np.array(X)\n",
        "\n",
        "df2_normalized = normalizer(np.array(X)).numpy()\n",
        "\n",
        "with np.printoptions(precision=2, suppress=True):\n",
        "\n",
        "  \n",
        "\n",
        "  print('Normalized:', normalizer(first).numpy())\n",
        "\n"
      ],
      "metadata": {
        "colab": {
          "base_uri": "https://localhost:8080/"
        },
        "id": "NR4fLUzGNdew",
        "outputId": "1e013e17-958a-41f8-d9cb-d0c55c7718bf"
      },
      "execution_count": null,
      "outputs": [
        {
          "output_type": "stream",
          "name": "stdout",
          "text": [
            "Normalized: [[ 2.34  0.98  0.63 ... -0.05  1.05 -1.33]\n",
            " [ 2.33 -0.61  0.33 ... -0.09  1.04 -1.32]\n",
            " [ 1.78  1.86  1.16 ... -0.03  1.04 -1.33]\n",
            " ...\n",
            " [-1.14 -0.92 -0.09 ... -0.07  1.78 -0.82]\n",
            " [-1.05 -0.85 -0.04 ... -0.09  1.78 -0.87]\n",
            " [-0.78 -1.   -0.07 ... -0.04  1.75 -0.83]]\n"
          ]
        }
      ]
    },
    {
      "cell_type": "code",
      "source": [
        "X_train, X_test, y_train, y_test = train_test_split(df2_normalized, y, test_size=0.2, random_state=0)"
      ],
      "metadata": {
        "id": "8NY70_291cNp"
      },
      "execution_count": null,
      "outputs": []
    },
    {
      "cell_type": "code",
      "source": [
        "print(df2_normalized)"
      ],
      "metadata": {
        "colab": {
          "base_uri": "https://localhost:8080/"
        },
        "id": "OCmOxP7s1q3Q",
        "outputId": "8457b6e1-db95-4763-8647-9a6ab7010b4f"
      },
      "execution_count": null,
      "outputs": [
        {
          "output_type": "stream",
          "name": "stdout",
          "text": [
            "[[ 2.3447661   0.9821439   0.6285595  ... -0.04959657  1.0525392\n",
            "  -1.3278488 ]\n",
            " [ 2.3322384  -0.60701865  0.32704142 ... -0.09251229  1.0431752\n",
            "  -1.3228564 ]\n",
            " [ 1.7826998   1.8561833   1.1556206  ... -0.02584255  1.0384924\n",
            "  -1.3328373 ]\n",
            " ...\n",
            " [-1.1425923  -0.9248512  -0.09031817 ... -0.07173454  1.7782292\n",
            "  -0.82372886]\n",
            " [-1.0545819  -0.84539306 -0.04021112 ... -0.0912252   1.7782292\n",
            "  -0.87364084]\n",
            " [-0.7801285  -1.0043093  -0.07044264 ... -0.0436822   1.7501373\n",
            "  -0.8337097 ]]\n"
          ]
        }
      ]
    },
    {
      "cell_type": "code",
      "source": [
        "x_train = tf.convert_to_tensor(X_train)\n",
        "Y_train = tf.convert_to_tensor(y_train)\n",
        "x_test = tf.convert_to_tensor(X_test)\n",
        "Y_test = tf.convert_to_tensor(y_test)\n",
        "print(x_train.shape)\n",
        "print(y_train.shape)"
      ],
      "metadata": {
        "colab": {
          "base_uri": "https://localhost:8080/"
        },
        "id": "eT1NsIEa16hp",
        "outputId": "6a2be672-922e-4aa9-e64e-6f99d8cefe7d"
      },
      "execution_count": null,
      "outputs": [
        {
          "output_type": "stream",
          "name": "stdout",
          "text": [
            "(16512, 8)\n",
            "(16512,)\n"
          ]
        }
      ]
    },
    {
      "cell_type": "code",
      "source": [
        "model2 = tf.keras.Sequential()\n",
        "\n",
        "model2.add(tf.keras.layers.Flatten(input_shape=[8], name=\"inputLayer\"))\n",
        "model2.add(tf.keras.layers.Dense(30, activation=\"relu\", name=\"HiddenLayer1\"))\n",
        "model2.add(tf.keras.layers.Dense(1, activation=\"relu\", name=\"outputLayer\"))\n",
        "model2.summary()"
      ],
      "metadata": {
        "colab": {
          "base_uri": "https://localhost:8080/"
        },
        "id": "vpW-SQ-cDuDE",
        "outputId": "ef032507-02ac-497e-ac2f-3cff538cbcd2"
      },
      "execution_count": null,
      "outputs": [
        {
          "output_type": "stream",
          "name": "stdout",
          "text": [
            "Model: \"sequential_1\"\n",
            "_________________________________________________________________\n",
            " Layer (type)                Output Shape              Param #   \n",
            "=================================================================\n",
            " inputLayer (Flatten)        (None, 8)                 0         \n",
            "                                                                 \n",
            " HiddenLayer1 (Dense)        (None, 30)                270       \n",
            "                                                                 \n",
            " outputLayer (Dense)         (None, 1)                 31        \n",
            "                                                                 \n",
            "=================================================================\n",
            "Total params: 301\n",
            "Trainable params: 301\n",
            "Non-trainable params: 0\n",
            "_________________________________________________________________\n"
          ]
        }
      ]
    },
    {
      "cell_type": "code",
      "source": [
        "model2.compile(\n",
        "    loss=tf.keras.losses.MeanSquaredError(),\n",
        "    optimizer=tf.keras.optimizers.Adam(lr=0.0001),\n",
        "    metrics=[\"mean_squared_error\"],\n",
        ")"
      ],
      "metadata": {
        "colab": {
          "base_uri": "https://localhost:8080/"
        },
        "id": "s1WKdqNHEA2g",
        "outputId": "bf812704-d0aa-4733-a780-67bef094435c"
      },
      "execution_count": null,
      "outputs": [
        {
          "output_type": "stream",
          "name": "stderr",
          "text": [
            "/usr/local/lib/python3.7/dist-packages/keras/optimizer_v2/adam.py:105: UserWarning: The `lr` argument is deprecated, use `learning_rate` instead.\n",
            "  super(Adam, self).__init__(name, **kwargs)\n"
          ]
        }
      ]
    },
    {
      "cell_type": "code",
      "source": [
        "history2 = model2.fit(X_train, Y_train, batch_size=32, epochs=20, validation_split=0.2)"
      ],
      "metadata": {
        "colab": {
          "base_uri": "https://localhost:8080/"
        },
        "id": "zsgt5gH8FQrs",
        "outputId": "1d539fd4-7f36-4a84-adac-18833e5051f2"
      },
      "execution_count": null,
      "outputs": [
        {
          "output_type": "stream",
          "name": "stdout",
          "text": [
            "Epoch 1/20\n",
            "413/413 [==============================] - 1s 2ms/step - loss: 3.8977 - mean_squared_error: 3.8977 - val_loss: 3.1650 - val_mean_squared_error: 3.1650\n",
            "Epoch 2/20\n",
            "413/413 [==============================] - 1s 1ms/step - loss: 2.5627 - mean_squared_error: 2.5627 - val_loss: 2.0221 - val_mean_squared_error: 2.0221\n",
            "Epoch 3/20\n",
            "413/413 [==============================] - 0s 1ms/step - loss: 1.6808 - mean_squared_error: 1.6808 - val_loss: 1.3794 - val_mean_squared_error: 1.3794\n",
            "Epoch 4/20\n",
            "413/413 [==============================] - 1s 1ms/step - loss: 1.2163 - mean_squared_error: 1.2163 - val_loss: 1.0672 - val_mean_squared_error: 1.0672\n",
            "Epoch 5/20\n",
            "413/413 [==============================] - 1s 1ms/step - loss: 0.9971 - mean_squared_error: 0.9971 - val_loss: 0.9222 - val_mean_squared_error: 0.9222\n",
            "Epoch 6/20\n",
            "413/413 [==============================] - 1s 1ms/step - loss: 0.8928 - mean_squared_error: 0.8928 - val_loss: 0.8469 - val_mean_squared_error: 0.8469\n",
            "Epoch 7/20\n",
            "413/413 [==============================] - 0s 1ms/step - loss: 0.8314 - mean_squared_error: 0.8314 - val_loss: 0.7973 - val_mean_squared_error: 0.7973\n",
            "Epoch 8/20\n",
            "413/413 [==============================] - 0s 1ms/step - loss: 0.7862 - mean_squared_error: 0.7862 - val_loss: 0.7568 - val_mean_squared_error: 0.7568\n",
            "Epoch 9/20\n",
            "413/413 [==============================] - 1s 1ms/step - loss: 0.7481 - mean_squared_error: 0.7481 - val_loss: 0.7208 - val_mean_squared_error: 0.7208\n",
            "Epoch 10/20\n",
            "413/413 [==============================] - 1s 1ms/step - loss: 0.7139 - mean_squared_error: 0.7139 - val_loss: 0.6887 - val_mean_squared_error: 0.6887\n",
            "Epoch 11/20\n",
            "413/413 [==============================] - 1s 1ms/step - loss: 0.6829 - mean_squared_error: 0.6829 - val_loss: 0.6578 - val_mean_squared_error: 0.6578\n",
            "Epoch 12/20\n",
            "413/413 [==============================] - 0s 1ms/step - loss: 0.6540 - mean_squared_error: 0.6540 - val_loss: 0.6293 - val_mean_squared_error: 0.6293\n",
            "Epoch 13/20\n",
            "413/413 [==============================] - 1s 1ms/step - loss: 0.6275 - mean_squared_error: 0.6275 - val_loss: 0.6024 - val_mean_squared_error: 0.6024\n",
            "Epoch 14/20\n",
            "413/413 [==============================] - 0s 1ms/step - loss: 0.6031 - mean_squared_error: 0.6031 - val_loss: 0.5768 - val_mean_squared_error: 0.5768\n",
            "Epoch 15/20\n",
            "413/413 [==============================] - 0s 1ms/step - loss: 0.5810 - mean_squared_error: 0.5810 - val_loss: 0.5551 - val_mean_squared_error: 0.5551\n",
            "Epoch 16/20\n",
            "413/413 [==============================] - 0s 1ms/step - loss: 0.5615 - mean_squared_error: 0.5615 - val_loss: 0.5351 - val_mean_squared_error: 0.5351\n",
            "Epoch 17/20\n",
            "413/413 [==============================] - 1s 1ms/step - loss: 0.5442 - mean_squared_error: 0.5442 - val_loss: 0.5174 - val_mean_squared_error: 0.5174\n",
            "Epoch 18/20\n",
            "413/413 [==============================] - 1s 1ms/step - loss: 0.5293 - mean_squared_error: 0.5293 - val_loss: 0.5017 - val_mean_squared_error: 0.5017\n",
            "Epoch 19/20\n",
            "413/413 [==============================] - 0s 1ms/step - loss: 0.5166 - mean_squared_error: 0.5166 - val_loss: 0.4891 - val_mean_squared_error: 0.4891\n",
            "Epoch 20/20\n",
            "413/413 [==============================] - 0s 1ms/step - loss: 0.5052 - mean_squared_error: 0.5052 - val_loss: 0.4770 - val_mean_squared_error: 0.4770\n"
          ]
        }
      ]
    },
    {
      "cell_type": "code",
      "source": [
        "\n",
        "sns.set_style(\"darkgrid\")\n",
        "#get the details form the history object\n",
        "# acc = history.history['accuracy']\n",
        "# val_acc = history.history['val_accuracy']\n",
        "loss = history2.history['loss']\n",
        "val_loss = history2.history['val_loss']\n",
        "\n",
        "epochs = range(20)\n",
        "plt.figure()\n",
        "#Train and validation loss\n",
        "plt.plot(epochs, loss, 'b', label='Training loss')\n",
        "plt.plot(epochs, val_loss, 'r', label='Validation loss')\n",
        "plt.xlabel('Epoch #')\n",
        "plt.ylabel('loss')\n",
        "plt.title('Training and Validation loss')\n",
        "plt.legend()\n",
        "#plt.savefig('ensemble_seresnext50_eff-b3_graph_test_loss.png')\n",
        "\n",
        "plt.show()\n",
        "\n"
      ],
      "metadata": {
        "colab": {
          "base_uri": "https://localhost:8080/",
          "height": 295
        },
        "id": "MXqPzuFlFXmk",
        "outputId": "460c5701-4fc0-4ff9-f657-d14849ac5621"
      },
      "execution_count": null,
      "outputs": [
        {
          "output_type": "display_data",
          "data": {
            "text/plain": [
              "<Figure size 432x288 with 1 Axes>"
            ],
            "image/png": "[encoded data removed]"
          },
          "metadata": {}
        }
      ]
    },
    {
      "cell_type": "code",
      "source": [
        "model2.evaluate(x_test,Y_test) #as we can see model is performing well. since the test loss is less and is close to training error."
      ],
      "metadata": {
        "colab": {
          "base_uri": "https://localhost:8080/"
        },
        "id": "6eqWmxpxK4_G",
        "outputId": "55b45aed-36a6-44ec-f2c4-0a3a7ee61124"
      },
      "execution_count": null,
      "outputs": [
        {
          "output_type": "stream",
          "name": "stdout",
          "text": [
            "129/129 [==============================] - 0s 1ms/step - loss: 0.5006 - mean_squared_error: 0.5006\n"
          ]
        },
        {
          "output_type": "execute_result",
          "data": {
            "text/plain": [
              "[0.5005894899368286, 0.5005894899368286]"
            ]
          },
          "metadata": {},
          "execution_count": 28
        }
      ]
    },
    {
      "cell_type": "code",
      "source": [
        "input1 = keras.Input(shape = 5)\n",
        "input2 = keras.Input(shape = 6)\n",
        "layer1 = layers.Dense(30, activation = 'relu')(input1)\n",
        "layer2 = layers.Dense(30, activation = 'relu')(layer1)\n",
        "# layer3 = tf.concat([layer2,input2],1)\n",
        "layer3 = keras.layers.concatenate([layer2,input2],1)\n",
        "outputs = layers.Dense(1, activation = 'relu')(layer3)\n",
        "\n",
        "model = keras.Model(inputs = [input1,input2], outputs = outputs)\n",
        "\n"
      ],
      "metadata": {
        "id": "bqMfmBxT1swJ"
      },
      "execution_count": null,
      "outputs": []
    },
    {
      "cell_type": "code",
      "source": [
        "model.compile(\n",
        "    loss=tf.keras.losses.MeanSquaredError(),\n",
        "    optimizer=tf.keras.optimizers.Adam(lr=0.0001),\n",
        "    metrics=[\"mean_squared_error\"],\n",
        ")"
      ],
      "metadata": {
        "id": "EFXhEk8Q2FQw"
      },
      "execution_count": null,
      "outputs": []
    },
    {
      "cell_type": "code",
      "source": [
        "history = model.fit([x_train[:,0:5],x_train[:,2:8]], Y_train, batch_size=32, epochs=20, validation_split=0.2)"
      ],
      "metadata": {
        "colab": {
          "base_uri": "https://localhost:8080/"
        },
        "id": "W8jxWq-y43ng",
        "outputId": "e7d6f1bf-055a-43c5-9588-9dfa8b1f5cab"
      },
      "execution_count": null,
      "outputs": [
        {
          "output_type": "stream",
          "name": "stdout",
          "text": [
            "Epoch 1/20\n",
            "413/413 [==============================] - 1s 2ms/step - loss: 4.2487 - mean_squared_error: 4.2487 - val_loss: 2.6307 - val_mean_squared_error: 2.6307\n",
            "Epoch 2/20\n",
            "413/413 [==============================] - 1s 1ms/step - loss: 1.8817 - mean_squared_error: 1.8817 - val_loss: 1.2583 - val_mean_squared_error: 1.2583\n",
            "Epoch 3/20\n",
            "413/413 [==============================] - 1s 2ms/step - loss: 1.1836 - mean_squared_error: 1.1836 - val_loss: 0.9847 - val_mean_squared_error: 0.9847\n",
            "Epoch 4/20\n",
            "413/413 [==============================] - 1s 1ms/step - loss: 1.0021 - mean_squared_error: 1.0021 - val_loss: 0.8634 - val_mean_squared_error: 0.8634\n",
            "Epoch 5/20\n",
            "413/413 [==============================] - 1s 2ms/step - loss: 0.8969 - mean_squared_error: 0.8969 - val_loss: 0.7759 - val_mean_squared_error: 0.7759\n",
            "Epoch 6/20\n",
            "413/413 [==============================] - 1s 1ms/step - loss: 0.8211 - mean_squared_error: 0.8211 - val_loss: 0.7110 - val_mean_squared_error: 0.7110\n",
            "Epoch 7/20\n",
            "413/413 [==============================] - 1s 1ms/step - loss: 0.7642 - mean_squared_error: 0.7642 - val_loss: 0.6624 - val_mean_squared_error: 0.6624\n",
            "Epoch 8/20\n",
            "413/413 [==============================] - 1s 2ms/step - loss: 0.7214 - mean_squared_error: 0.7214 - val_loss: 0.6307 - val_mean_squared_error: 0.6307\n",
            "Epoch 9/20\n",
            "413/413 [==============================] - 1s 1ms/step - loss: 0.6918 - mean_squared_error: 0.6918 - val_loss: 0.6045 - val_mean_squared_error: 0.6045\n",
            "Epoch 10/20\n",
            "413/413 [==============================] - 1s 1ms/step - loss: 0.6698 - mean_squared_error: 0.6698 - val_loss: 0.5874 - val_mean_squared_error: 0.5874\n",
            "Epoch 11/20\n",
            "413/413 [==============================] - 1s 2ms/step - loss: 0.6533 - mean_squared_error: 0.6533 - val_loss: 0.5760 - val_mean_squared_error: 0.5760\n",
            "Epoch 12/20\n",
            "413/413 [==============================] - 1s 2ms/step - loss: 0.6406 - mean_squared_error: 0.6406 - val_loss: 0.5650 - val_mean_squared_error: 0.5650\n",
            "Epoch 13/20\n",
            "413/413 [==============================] - 1s 2ms/step - loss: 0.6298 - mean_squared_error: 0.6298 - val_loss: 0.5587 - val_mean_squared_error: 0.5587\n",
            "Epoch 14/20\n",
            "413/413 [==============================] - 1s 1ms/step - loss: 0.6216 - mean_squared_error: 0.6216 - val_loss: 0.5508 - val_mean_squared_error: 0.5508\n",
            "Epoch 15/20\n",
            "413/413 [==============================] - 1s 2ms/step - loss: 0.6133 - mean_squared_error: 0.6133 - val_loss: 0.5445 - val_mean_squared_error: 0.5445\n",
            "Epoch 16/20\n",
            "413/413 [==============================] - 1s 1ms/step - loss: 0.6065 - mean_squared_error: 0.6065 - val_loss: 0.5393 - val_mean_squared_error: 0.5393\n",
            "Epoch 17/20\n",
            "413/413 [==============================] - 1s 2ms/step - loss: 0.5995 - mean_squared_error: 0.5995 - val_loss: 0.5366 - val_mean_squared_error: 0.5366\n",
            "Epoch 18/20\n",
            "413/413 [==============================] - 1s 3ms/step - loss: 0.5933 - mean_squared_error: 0.5933 - val_loss: 0.5304 - val_mean_squared_error: 0.5304\n",
            "Epoch 19/20\n",
            "413/413 [==============================] - 1s 2ms/step - loss: 0.5876 - mean_squared_error: 0.5876 - val_loss: 0.5265 - val_mean_squared_error: 0.5265\n",
            "Epoch 20/20\n",
            "413/413 [==============================] - 1s 1ms/step - loss: 0.5822 - mean_squared_error: 0.5822 - val_loss: 0.5209 - val_mean_squared_error: 0.5209\n"
          ]
        }
      ]
    },
    {
      "cell_type": "code",
      "source": [
        "\n",
        "sns.set_style(\"darkgrid\")\n",
        "#get the details form the history object\n",
        "# acc = history.history['accuracy']\n",
        "# val_acc = history.history['val_accuracy']\n",
        "loss = history.history['loss']\n",
        "val_loss = history.history['val_loss']\n",
        "\n",
        "epochs = range(20)\n",
        "plt.figure()\n",
        "#Train and validation loss\n",
        "plt.plot(epochs, loss, 'b', label='Training loss')\n",
        "plt.plot(epochs, val_loss, 'r', label='Validation loss')\n",
        "plt.xlabel('Epoch #')\n",
        "plt.ylabel('loss')\n",
        "plt.title('Training and Validation loss')\n",
        "plt.legend()\n",
        "#plt.savefig('ensemble_seresnext50_eff-b3_graph_test_loss.png')\n",
        "\n",
        "plt.show()"
      ],
      "metadata": {
        "colab": {
          "base_uri": "https://localhost:8080/",
          "height": 295
        },
        "id": "Cdksw4wOBMnT",
        "outputId": "a4a268ad-b854-4a79-a5c7-8d4394bf6c18"
      },
      "execution_count": null,
      "outputs": [
        {
          "output_type": "display_data",
          "data": {
            "text/plain": [
              "<Figure size 432x288 with 1 Axes>"
            ],
            "image/png": "[encoded data removed]"
          },
          "metadata": {}
        }
      ]
    },
    {
      "cell_type": "code",
      "source": [
        "model.evaluate([x_test[:,0:5],x_test[:,2:8]],Y_test)#as we can see model is performing well. since the test loss is less and is close to training error."
      ],
      "metadata": {
        "colab": {
          "base_uri": "https://localhost:8080/"
        },
        "id": "E8pyNwNt5chR",
        "outputId": "fe99e1b1-ac96-4fcc-e541-269897e38348"
      },
      "execution_count": null,
      "outputs": [
        {
          "output_type": "stream",
          "name": "stdout",
          "text": [
            "129/129 [==============================] - 0s 1ms/step - loss: 0.7992 - mean_squared_error: 0.7992\n"
          ]
        },
        {
          "output_type": "execute_result",
          "data": {
            "text/plain": [
              "[0.7992082238197327, 0.7992082238197327]"
            ]
          },
          "metadata": {},
          "execution_count": 33
        }
      ]
    }
  ]
}